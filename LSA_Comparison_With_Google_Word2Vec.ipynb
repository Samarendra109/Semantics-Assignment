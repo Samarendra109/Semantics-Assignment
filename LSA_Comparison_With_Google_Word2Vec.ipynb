{
 "cells": [
  {
   "cell_type": "code",
   "execution_count": 1,
   "id": "a1b7824a",
   "metadata": {},
   "outputs": [
    {
     "name": "stderr",
     "output_type": "stream",
     "text": [
      "D:\\ProgramData\\Anaconda3\\lib\\site-packages\\numpy\\_distributor_init.py:30: UserWarning: loaded more than 1 DLL from .libs:\n",
      "D:\\ProgramData\\Anaconda3\\lib\\site-packages\\numpy\\.libs\\libopenblas.EL2C6PLE4ZYW3ECEVIV3OXXGRN2NRFM2.gfortran-win_amd64.dll\n",
      "D:\\ProgramData\\Anaconda3\\lib\\site-packages\\numpy\\.libs\\libopenblas.WCDJNK7YVMPZQ2ME2ZZHJJRJ3JIKNDB7.gfortran-win_amd64.dll\n",
      "  warnings.warn(\"loaded more than 1 DLL from .libs:\"\n"
     ]
    }
   ],
   "source": [
    "from gensim.models import KeyedVectors\n",
    "import pickle"
   ]
  },
  {
   "cell_type": "code",
   "execution_count": 2,
   "id": "493da058",
   "metadata": {},
   "outputs": [],
   "source": [
    "path = r\"D:\\UofT Courses\\Computational Models of Semantic Change\\Assignment 1\\\\\"\n",
    "path_analogy = path+\"word-test.v1.txt\"\n",
    "path_pair = path+\"word_rg64_pairs.txt\""
   ]
  },
  {
   "cell_type": "code",
   "execution_count": 3,
   "id": "ba304ac2",
   "metadata": {},
   "outputs": [
    {
     "name": "stdout",
     "output_type": "stream",
     "text": [
      "Started Loading\n",
      "Done\n"
     ]
    }
   ],
   "source": [
    "print(\"Started Loading\")\n",
    "path_google_vec = \"GoogleNews-vectors-negative300.bin\"\n",
    "google_model = KeyedVectors.load_word2vec_format(path+path_google_vec, binary=True)\n",
    "print(\"Done\")"
   ]
  },
  {
   "cell_type": "code",
   "execution_count": 4,
   "id": "aea4c89c",
   "metadata": {},
   "outputs": [],
   "source": [
    "with open(\n",
    "        path+\"lsa_word_vec_with_word_index300_final1.pkl\",\n",
    "        'rb'\n",
    ") as f:\n",
    "    lsa_mat_300, word_to_index = pickle.load(f)\n",
    "    \n",
    "lsa_model = KeyedVectors(300)\n",
    "word_list = [item[0].upper() for item in sorted(word_to_index.items(), key=lambda item: item[1])]\n",
    "lsa_model.add_vectors(word_list, lsa_mat_300)"
   ]
  },
  {
   "cell_type": "markdown",
   "id": "df97bb18",
   "metadata": {},
   "source": [
    "#### Step 3 Questions\n",
    "Evaluate the pair-wise similarity score"
   ]
  },
  {
   "cell_type": "code",
   "execution_count": 5,
   "id": "7fa8fb96",
   "metadata": {},
   "outputs": [],
   "source": [
    "path_pairs = \"word_rg64_pairs.txt\"\n",
    "\n",
    "pair_score_dict = {}\n",
    "with open(path+path_pairs) as f:\n",
    "    for line in f.readlines():\n",
    "        w1, w2, score = line.split()\n",
    "        pair_score_dict[(w1.lower(),w2.lower())] = float(score)\n",
    "        \n",
    "        # Sanity Check\n",
    "        if w1.lower() not in word_to_index:\n",
    "            print(1,w1,w2)\n",
    "        if w2.lower() not in word_to_index:\n",
    "            print(2,w1,w2)"
   ]
  },
  {
   "cell_type": "code",
   "execution_count": 6,
   "id": "7136e38e",
   "metadata": {},
   "outputs": [],
   "source": [
    "p_corr, _, ratio = lsa_model.evaluate_word_pairs(path+path_pairs, delimiter=' ')"
   ]
  },
  {
   "cell_type": "code",
   "execution_count": 7,
   "id": "f86ed7c8",
   "metadata": {},
   "outputs": [
    {
     "data": {
      "text/plain": [
       "(0.3117160089716393, 0.011481445001381076)"
      ]
     },
     "execution_count": 7,
     "metadata": {},
     "output_type": "execute_result"
    }
   ],
   "source": [
    "p_corr"
   ]
  },
  {
   "cell_type": "code",
   "execution_count": 8,
   "id": "f45be184",
   "metadata": {},
   "outputs": [
    {
     "data": {
      "text/plain": [
       "0.0"
      ]
     },
     "execution_count": 8,
     "metadata": {},
     "output_type": "execute_result"
    }
   ],
   "source": [
    "ratio"
   ]
  },
  {
   "cell_type": "code",
   "execution_count": 9,
   "id": "d8002ac1",
   "metadata": {},
   "outputs": [],
   "source": [
    "p_corr, _, _ = google_model.evaluate_word_pairs(path+path_pairs, delimiter=' ')"
   ]
  },
  {
   "cell_type": "code",
   "execution_count": 10,
   "id": "c9121f7e",
   "metadata": {},
   "outputs": [
    {
     "data": {
      "text/plain": [
       "(0.7533889716758513, 4.457925401443882e-13)"
      ]
     },
     "execution_count": 10,
     "metadata": {},
     "output_type": "execute_result"
    }
   ],
   "source": [
    "p_corr"
   ]
  },
  {
   "cell_type": "code",
   "execution_count": 11,
   "id": "8b8ecf96",
   "metadata": {},
   "outputs": [],
   "source": [
    "#Step 3 questions"
   ]
  },
  {
   "cell_type": "code",
   "execution_count": 12,
   "id": "66b3eacf",
   "metadata": {},
   "outputs": [],
   "source": [
    "result_lsa_score, result_lsa_by_section = lsa_model.evaluate_word_analogies(path_analogy)"
   ]
  },
  {
   "cell_type": "code",
   "execution_count": 13,
   "id": "2a4ecf42",
   "metadata": {},
   "outputs": [
    {
     "data": {
      "text/plain": [
       "7.480314960629922"
      ]
     },
     "execution_count": 13,
     "metadata": {},
     "output_type": "execute_result"
    }
   ],
   "source": [
    "result_lsa_score*100"
   ]
  },
  {
   "cell_type": "code",
   "execution_count": 14,
   "id": "9a2d0d9d",
   "metadata": {},
   "outputs": [],
   "source": [
    "with open(path+\"word_test_small_set.txt\", \"w\") as f:\n",
    "    for d in result_lsa_by_section:\n",
    "        if d['section'] == \"Total accuracy\":\n",
    "            continue\n",
    "        f.write(\": \"+d['section']+\"\\n\")\n",
    "        for t in d['correct']:\n",
    "            f.write(\" \".join(t)+\"\\n\")\n",
    "        for t in d['incorrect']:\n",
    "            f.write(\" \".join(t)+\"\\n\")"
   ]
  },
  {
   "cell_type": "code",
   "execution_count": 15,
   "id": "d3926967",
   "metadata": {},
   "outputs": [],
   "source": [
    "result_google_score, result_google_by_section = google_model.evaluate_word_analogies(path+\"word_test_small_set.txt\")"
   ]
  },
  {
   "cell_type": "code",
   "execution_count": 16,
   "id": "29d2091d",
   "metadata": {},
   "outputs": [
    {
     "data": {
      "text/plain": [
       "70.07874015748031"
      ]
     },
     "execution_count": 16,
     "metadata": {},
     "output_type": "execute_result"
    }
   ],
   "source": [
    "result_google_score*100"
   ]
  },
  {
   "cell_type": "code",
   "execution_count": 17,
   "id": "cb8f929b",
   "metadata": {},
   "outputs": [],
   "source": [
    "semantic_lsa_correct = 0\n",
    "syntactic_lsa_correct = 0\n",
    "\n",
    "semantic_lsa_total = 0\n",
    "syntactic_lsa_total = 0\n",
    "\n",
    "\n",
    "for d in result_lsa_by_section:\n",
    "    if d['section'] == \"Total accuracy\":\n",
    "            continue\n",
    "    if d['section'].startswith('gram'):\n",
    "        syntactic_lsa_correct += len(d['correct'])\n",
    "        syntactic_lsa_total += len(d['correct']) + len(d['incorrect'])\n",
    "    else:\n",
    "        semantic_lsa_correct += len(d['correct'])\n",
    "        semantic_lsa_total += len(d['correct']) + len(d['incorrect'])\n",
    "        \n",
    "semantic_lsa_score = semantic_lsa_correct/semantic_lsa_total\n",
    "syntactic_lsa_score = syntactic_lsa_correct/syntactic_lsa_total"
   ]
  },
  {
   "cell_type": "code",
   "execution_count": 18,
   "id": "6ed4d68a",
   "metadata": {},
   "outputs": [
    {
     "data": {
      "text/plain": [
       "(20.0, 6.442444339175745)"
      ]
     },
     "execution_count": 18,
     "metadata": {},
     "output_type": "execute_result"
    }
   ],
   "source": [
    "semantic_lsa_score*100,syntactic_lsa_score*100"
   ]
  },
  {
   "cell_type": "code",
   "execution_count": 19,
   "id": "10d5c468",
   "metadata": {},
   "outputs": [
    {
     "data": {
      "text/plain": [
       "7.480314960629922"
      ]
     },
     "execution_count": 19,
     "metadata": {},
     "output_type": "execute_result"
    }
   ],
   "source": [
    "#Sanity Check\n",
    "(semantic_lsa_total*semantic_lsa_score + syntactic_lsa_total*syntactic_lsa_score)/(semantic_lsa_total+syntactic_lsa_total)*100"
   ]
  },
  {
   "cell_type": "code",
   "execution_count": 20,
   "id": "fcb256e1",
   "metadata": {},
   "outputs": [],
   "source": [
    "semantic_google_correct = 0\n",
    "syntactic_google_correct = 0\n",
    "\n",
    "semantic_google_total = 0\n",
    "syntactic_google_total = 0\n",
    "\n",
    "\n",
    "for d in result_google_by_section:\n",
    "    if d['section'] == \"Total accuracy\":\n",
    "            continue\n",
    "    if d['section'].startswith('gram'):\n",
    "        syntactic_google_correct += len(d['correct'])\n",
    "        syntactic_google_total += len(d['correct']) + len(d['incorrect'])\n",
    "    else:\n",
    "        semantic_google_correct += len(d['correct'])\n",
    "        semantic_google_total += len(d['correct']) + len(d['incorrect'])\n",
    "        \n",
    "semantic_google_score = semantic_google_correct/semantic_google_total\n",
    "syntactic_google_score = syntactic_google_correct/syntactic_google_total"
   ]
  },
  {
   "cell_type": "code",
   "execution_count": 21,
   "id": "ff97b22c",
   "metadata": {},
   "outputs": [
    {
     "data": {
      "text/plain": [
       "(88.0, 68.59308384651823)"
      ]
     },
     "execution_count": 21,
     "metadata": {},
     "output_type": "execute_result"
    }
   ],
   "source": [
    "semantic_google_score*100,syntactic_google_score*100"
   ]
  },
  {
   "cell_type": "code",
   "execution_count": 22,
   "id": "f0168fd2",
   "metadata": {},
   "outputs": [
    {
     "data": {
      "text/plain": [
       "70.07874015748031"
      ]
     },
     "execution_count": 22,
     "metadata": {},
     "output_type": "execute_result"
    }
   ],
   "source": [
    "#Sanity Check\n",
    "(semantic_google_total*semantic_google_score + syntactic_google_total*syntactic_google_score)/(semantic_google_total+syntactic_google_total)*100"
   ]
  },
  {
   "cell_type": "code",
   "execution_count": null,
   "id": "ca8e33b1",
   "metadata": {},
   "outputs": [],
   "source": []
  }
 ],
 "metadata": {
  "kernelspec": {
   "display_name": "Python 3 (ipykernel)",
   "language": "python",
   "name": "python3"
  },
  "language_info": {
   "codemirror_mode": {
    "name": "ipython",
    "version": 3
   },
   "file_extension": ".py",
   "mimetype": "text/x-python",
   "name": "python",
   "nbconvert_exporter": "python",
   "pygments_lexer": "ipython3",
   "version": "3.8.5"
  }
 },
 "nbformat": 4,
 "nbformat_minor": 5
}
